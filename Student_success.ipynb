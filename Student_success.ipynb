{
 "cells": [
  {
   "cell_type": "code",
   "execution_count": 17,
   "id": "746766ab-fe6a-47dc-8d83-b9d7ebb0e148",
   "metadata": {},
   "outputs": [],
   "source": [
    "# Internship Project - Task 2: Student Success Prediction\n",
    "# Description:\n",
    "# This project builds a machine learning classification model to predict student success in internship programs\n",
    "# based on academic performance, participation, and skill metrics.\n",
    "\n",
    "# Step 1: Import Libraries\n",
    "import pandas as pd\n",
    "import matplotlib.pyplot as plt\n",
    "import seaborn as sns\n",
    "from sklearn.model_selection import train_test_split\n",
    "from sklearn.preprocessing import StandardScaler, LabelEncoder\n",
    "from sklearn.linear_model import LogisticRegression\n",
    "from sklearn.ensemble import RandomForestClassifier\n",
    "from sklearn.svm import SVC\n",
    "from sklearn.metrics import classification_report, confusion_matrix"
   ]
  },
  {
   "cell_type": "code",
   "execution_count": 3,
   "id": "718b837a-75ac-46b4-9f8a-c12722d01c50",
   "metadata": {},
   "outputs": [
    {
     "name": "stdout",
     "output_type": "stream",
     "text": [
      "Dataset Preview:\n",
      "   StudentID  CGPA  ProjectsDone  ParticipationHours  Domain  \\\n",
      "0       1000  8.24             0                  22  WebDev   \n",
      "1       1001  6.49             0                  39      AI   \n",
      "2       1002  7.48             0                  10  WebDev   \n",
      "3       1003  7.77             0                  40  WebDev   \n",
      "4       1004  8.27             4                  31  WebDev   \n",
      "\n",
      "  CommunicationSkills  Success  \n",
      "0                 Low        0  \n",
      "1                High        0  \n",
      "2                 Low        0  \n",
      "3                High        1  \n",
      "4              Medium        1  \n"
     ]
    }
   ],
   "source": [
    "# Step 2: Load Dataset\n",
    "df = pd.read_csv('student_success_data.csv')\n",
    "print(\"Dataset Preview:\")\n",
    "print(df.head())"
   ]
  },
  {
   "cell_type": "code",
   "execution_count": 5,
   "id": "b7dafc87-917f-4ebd-aba3-6b223c9f7025",
   "metadata": {},
   "outputs": [],
   "source": [
    "# Step 3: Preprocessing\n",
    "label_encoders = {}\n",
    "for col in ['Domain', 'CommunicationSkills']:\n",
    "    le = LabelEncoder()\n",
    "    df[col] = le.fit_transform(df[col])\n",
    "    label_encoders[col] = le"
   ]
  },
  {
   "cell_type": "code",
   "execution_count": 7,
   "id": "6d6f2bee-5406-4e8d-a459-d8682cb8443f",
   "metadata": {},
   "outputs": [],
   "source": [
    "# Features and Target\n",
    "X = df.drop(['StudentID', 'Success'], axis=1)\n",
    "y = df['Success']\n"
   ]
  },
  {
   "cell_type": "code",
   "execution_count": 9,
   "id": "9dcbac38-7b07-48e3-9d13-f1e08b9f2edc",
   "metadata": {},
   "outputs": [],
   "source": [
    "# Normalize features\n",
    "scaler = StandardScaler()\n",
    "X_scaled = scaler.fit_transform(X)"
   ]
  },
  {
   "cell_type": "code",
   "execution_count": 11,
   "id": "4b3f62bf-f83e-49d0-8fcc-02db24bda0b0",
   "metadata": {},
   "outputs": [],
   "source": [
    "# Step 4: Train-Test Split\n",
    "X_train, X_test, y_train, y_test = train_test_split(X_scaled, y, test_size=0.2, random_state=42)"
   ]
  },
  {
   "cell_type": "code",
   "execution_count": 13,
   "id": "3307179f-dd49-4228-a0a7-580911fb122b",
   "metadata": {},
   "outputs": [
    {
     "name": "stdout",
     "output_type": "stream",
     "text": [
      "\n",
      "Model: Logistic Regression\n",
      "              precision    recall  f1-score   support\n",
      "\n",
      "           0       0.88      1.00      0.93        14\n",
      "           1       1.00      0.67      0.80         6\n",
      "\n",
      "    accuracy                           0.90        20\n",
      "   macro avg       0.94      0.83      0.87        20\n",
      "weighted avg       0.91      0.90      0.89        20\n",
      "\n",
      "Confusion Matrix:\n",
      "[[14  0]\n",
      " [ 2  4]]\n",
      "\n",
      "Model: Random Forest\n",
      "              precision    recall  f1-score   support\n",
      "\n",
      "           0       0.88      1.00      0.93        14\n",
      "           1       1.00      0.67      0.80         6\n",
      "\n",
      "    accuracy                           0.90        20\n",
      "   macro avg       0.94      0.83      0.87        20\n",
      "weighted avg       0.91      0.90      0.89        20\n",
      "\n",
      "Confusion Matrix:\n",
      "[[14  0]\n",
      " [ 2  4]]\n",
      "\n",
      "Model: SVM\n",
      "              precision    recall  f1-score   support\n",
      "\n",
      "           0       0.74      1.00      0.85        14\n",
      "           1       1.00      0.17      0.29         6\n",
      "\n",
      "    accuracy                           0.75        20\n",
      "   macro avg       0.87      0.58      0.57        20\n",
      "weighted avg       0.82      0.75      0.68        20\n",
      "\n",
      "Confusion Matrix:\n",
      "[[14  0]\n",
      " [ 5  1]]\n"
     ]
    }
   ],
   "source": [
    "# Step 5: Train Models and Evaluate\n",
    "models = {\n",
    "    \"Logistic Regression\": LogisticRegression(),\n",
    "    \"Random Forest\": RandomForestClassifier(),\n",
    "    \"SVM\": SVC()\n",
    "}\n",
    "\n",
    "for name, model in models.items():\n",
    "    model.fit(X_train, y_train)\n",
    "    y_pred = model.predict(X_test)\n",
    "    print(f\"\\nModel: {name}\")\n",
    "    print(classification_report(y_test, y_pred))\n",
    "    print(\"Confusion Matrix:\")\n",
    "    print(confusion_matrix(y_test, y_pred))"
   ]
  },
  {
   "cell_type": "code",
   "execution_count": 15,
   "id": "5a16480e-f94d-48ec-9314-44a4bda4904b",
   "metadata": {},
   "outputs": [
    {
     "name": "stdout",
     "output_type": "stream",
     "text": [
      "\n",
      "Conclusion:\n",
      "- We trained three classifiers to predict student success in internships.\n",
      "- Based on evaluation metrics, the most accurate model can be recommended for use.\n",
      "- This model helps MITS understand what factors contribute to internship success and can guide future student preparation.\n",
      "\n"
     ]
    }
   ],
   "source": [
    "# Step 6: Conclusion\n",
    "print(\"\"\"\n",
    "Conclusion:\n",
    "- We trained three classifiers to predict student success in internships.\n",
    "- Based on evaluation metrics, the most accurate model can be recommended for use.\n",
    "- This model helps MITS understand what factors contribute to internship success and can guide future student preparation.\n",
    "\"\"\")"
   ]
  },
  {
   "cell_type": "code",
   "execution_count": null,
   "id": "70461a29-0d03-45f4-9c87-c393dbeb10a4",
   "metadata": {},
   "outputs": [],
   "source": []
  }
 ],
 "metadata": {
  "kernelspec": {
   "display_name": "Python [conda env:base] *",
   "language": "python",
   "name": "conda-base-py"
  },
  "language_info": {
   "codemirror_mode": {
    "name": "ipython",
    "version": 3
   },
   "file_extension": ".py",
   "mimetype": "text/x-python",
   "name": "python",
   "nbconvert_exporter": "python",
   "pygments_lexer": "ipython3",
   "version": "3.12.7"
  }
 },
 "nbformat": 4,
 "nbformat_minor": 5
}
