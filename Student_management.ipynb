{
 "cells": [
  {
   "cell_type": "code",
   "execution_count": 1,
   "id": "67684f61-dc2e-4913-8425-0f7d44e0737c",
   "metadata": {},
   "outputs": [],
   "source": [
    "import tkinter as tk\n",
    "from tkinter import messagebox, ttk\n",
    "import sqlite3"
   ]
  },
  {
   "cell_type": "code",
   "execution_count": 3,
   "id": "99c82d2b-5bd6-4a74-9a82-2ac682545445",
   "metadata": {},
   "outputs": [],
   "source": [
    "# Connect to SQLite DB (or create if not exists)\n",
    "conn = sqlite3.connect('student_management.db')\n",
    "c = conn.cursor()"
   ]
  },
  {
   "cell_type": "code",
   "execution_count": 5,
   "id": "332d6baf-f621-47b5-9511-cbea71d043c3",
   "metadata": {},
   "outputs": [],
   "source": [
    "# Create tables\n",
    "c.execute('''CREATE TABLE IF NOT EXISTS students (\n",
    "                id INTEGER PRIMARY KEY AUTOINCREMENT,\n",
    "                name TEXT NOT NULL,\n",
    "                age INTEGER,\n",
    "                grade TEXT\n",
    "            )''')\n",
    "\n",
    "c.execute('''CREATE TABLE IF NOT EXISTS attendance (\n",
    "                student_id INTEGER,\n",
    "                date TEXT,\n",
    "                status TEXT,\n",
    "                PRIMARY KEY(student_id, date),\n",
    "                FOREIGN KEY(student_id) REFERENCES students(id)\n",
    "            )''')\n",
    "\n",
    "conn.commit()"
   ]
  },
  {
   "cell_type": "code",
   "execution_count": 7,
   "id": "311d3da3-4b2a-4eaf-8ef7-21c32a80c256",
   "metadata": {},
   "outputs": [
    {
     "data": {
      "text/plain": [
       "''"
      ]
     },
     "execution_count": 7,
     "metadata": {},
     "output_type": "execute_result"
    }
   ],
   "source": [
    "# Main app window\n",
    "root = tk.Tk()\n",
    "root.title(\"Student Management System\")\n",
    "root.geometry(\"800x550\")"
   ]
  },
  {
   "cell_type": "code",
   "execution_count": 9,
   "id": "923b1fc2-5c2c-4f0a-b6c7-0defef518bba",
   "metadata": {},
   "outputs": [],
   "source": [
    "# ---------------------------- FUNCTIONS ---------------------------- #\n",
    "\n",
    "def load_students():\n",
    "    for row in tree.get_children():\n",
    "        tree.delete(row)\n",
    "    c.execute(\"SELECT * FROM students\")\n",
    "    for row in c.fetchall():\n",
    "        tree.insert(\"\", tk.END, values=row)\n",
    "\n",
    "def add_student():\n",
    "    name = entry_name.get()\n",
    "    age = entry_age.get()\n",
    "    grade = entry_grade.get()\n",
    "\n",
    "    if not name or not age or not grade:\n",
    "        messagebox.showerror(\"Input Error\", \"Please fill all fields.\")\n",
    "        return\n",
    "\n",
    "    try:\n",
    "        c.execute(\"INSERT INTO students (name, age, grade) VALUES (?, ?, ?)\", (name, int(age), grade))\n",
    "        conn.commit()\n",
    "        messagebox.showinfo(\"Success\", f\"Student '{name}' added.\")\n",
    "        entry_name.delete(0, tk.END)\n",
    "        entry_age.delete(0, tk.END)\n",
    "        entry_grade.delete(0, tk.END)\n",
    "        load_students()\n",
    "    except Exception as e:\n",
    "        messagebox.showerror(\"Error\", str(e))\n",
    "\n",
    "def mark_attendance():\n",
    "    selected = tree.focus()\n",
    "    if not selected:\n",
    "        messagebox.showerror(\"Select Student\", \"Please select a student from the list.\")\n",
    "        return\n",
    "\n",
    "    student = tree.item(selected)['values']\n",
    "    student_id = student[0]\n",
    "    date = entry_date.get()\n",
    "    status = combo_status.get()\n",
    "\n",
    "    if not date or status == \"\":\n",
    "        messagebox.showerror(\"Input Error\", \"Please enter date and select attendance status.\")\n",
    "        return\n",
    "\n",
    "    try:\n",
    "        c.execute(\"INSERT OR REPLACE INTO attendance (student_id, date, status) VALUES (?, ?, ?)\",\n",
    "                  (student_id, date, status))\n",
    "        conn.commit()\n",
    "        messagebox.showinfo(\"Success\", \"Attendance recorded.\")\n",
    "    except Exception as e:\n",
    "        messagebox.showerror(\"Error\", str(e))\n",
    "\n",
    "def view_grades():\n",
    "    selected = tree.focus()\n",
    "    if not selected:\n",
    "        messagebox.showerror(\"Select Student\", \"Please select a student from the list.\")\n",
    "        return\n",
    "\n",
    "    student = tree.item(selected)['values']\n",
    "    messagebox.showinfo(\"Grade\", f\"Student: {student[1]}\\nGrade: {student[3]}\")"
   ]
  },
  {
   "cell_type": "code",
   "execution_count": 11,
   "id": "68ddb7c7-02d6-4dce-a3e6-9ed487375c8c",
   "metadata": {},
   "outputs": [],
   "source": [
    "# ---------------------------- UI ELEMENTS ---------------------------- #\n",
    "\n",
    "# Frame: Add Student\n",
    "frame_add = tk.LabelFrame(root, text=\"Add Student\")\n",
    "frame_add.pack(fill=\"x\", padx=10, pady=5)\n",
    "\n",
    "tk.Label(frame_add, text=\"Name:\").grid(row=0, column=0, padx=5, pady=5)\n",
    "entry_name = tk.Entry(frame_add)\n",
    "entry_name.grid(row=0, column=1, padx=5, pady=5)\n",
    "\n",
    "tk.Label(frame_add, text=\"Age:\").grid(row=0, column=2, padx=5, pady=5)\n",
    "entry_age = tk.Entry(frame_add)\n",
    "entry_age.grid(row=0, column=3, padx=5, pady=5)\n",
    "\n",
    "tk.Label(frame_add, text=\"Grade:\").grid(row=0, column=4, padx=5, pady=5)\n",
    "entry_grade = tk.Entry(frame_add)\n",
    "entry_grade.grid(row=0, column=5, padx=5, pady=5)\n",
    "\n",
    "btn_add = tk.Button(frame_add, text=\"Add Student\", command=add_student)\n",
    "btn_add.grid(row=0, column=6, padx=10)"
   ]
  },
  {
   "cell_type": "code",
   "execution_count": 14,
   "id": "8564ea8e-db3f-4728-92bc-3f0f93959535",
   "metadata": {},
   "outputs": [],
   "source": [
    "# Frame: Student List\n",
    "frame_list = tk.LabelFrame(root, text=\"Student List\")\n",
    "frame_list.pack(fill=\"both\", expand=True, padx=10, pady=5)\n",
    "\n",
    "columns = (\"ID\", \"Name\", \"Age\", \"Grade\")\n",
    "tree = ttk.Treeview(frame_list, columns=columns, show='headings')\n",
    "for col in columns:\n",
    "    tree.heading(col, text=col)\n",
    "tree.pack(fill=\"both\", expand=True)"
   ]
  },
  {
   "cell_type": "code",
   "execution_count": 16,
   "id": "bef66d67-3eb0-40e5-ada3-cec83cfa29a3",
   "metadata": {},
   "outputs": [],
   "source": [
    "# Frame: Attendance\n",
    "frame_attendance = tk.LabelFrame(root, text=\"Mark Attendance\")\n",
    "frame_attendance.pack(fill=\"x\", padx=10, pady=5)\n",
    "\n",
    "tk.Label(frame_attendance, text=\"Date (YYYY-MM-DD):\").grid(row=0, column=0, padx=5, pady=5)\n",
    "entry_date = tk.Entry(frame_attendance)\n",
    "entry_date.grid(row=0, column=1, padx=5, pady=5)\n",
    "\n",
    "tk.Label(frame_attendance, text=\"Status:\").grid(row=0, column=2, padx=5, pady=5)\n",
    "combo_status = ttk.Combobox(frame_attendance, values=[\"Present\", \"Absent\"])\n",
    "combo_status.grid(row=0, column=3, padx=5, pady=5)\n",
    "\n",
    "btn_attendance = tk.Button(frame_attendance, text=\"Mark Attendance\", command=mark_attendance)\n",
    "btn_attendance.grid(row=0, column=4, padx=10)"
   ]
  },
  {
   "cell_type": "code",
   "execution_count": 18,
   "id": "d7d4b576-728b-449e-a820-75a9545fb16c",
   "metadata": {},
   "outputs": [],
   "source": [
    "# Button: View Grade\n",
    "btn_grade = tk.Button(root, text=\"View Selected Student Grade\", command=view_grades)\n",
    "btn_grade.pack(pady=5)"
   ]
  },
  {
   "cell_type": "code",
   "execution_count": 20,
   "id": "8f001cc3-7258-4259-8f26-b0be9368480b",
   "metadata": {},
   "outputs": [],
   "source": [
    "# Load initial student list\n",
    "load_students()"
   ]
  },
  {
   "cell_type": "code",
   "execution_count": null,
   "id": "3d7e9d2e-540b-4758-a7e7-716e9cefba52",
   "metadata": {},
   "outputs": [],
   "source": [
    "# Run the app\n",
    "root.mainloop()"
   ]
  },
  {
   "cell_type": "code",
   "execution_count": null,
   "id": "f1066329-9090-4dee-bf3d-bb470da7dd6d",
   "metadata": {},
   "outputs": [],
   "source": []
  }
 ],
 "metadata": {
  "kernelspec": {
   "display_name": "Python [conda env:base] *",
   "language": "python",
   "name": "conda-base-py"
  },
  "language_info": {
   "codemirror_mode": {
    "name": "ipython",
    "version": 3
   },
   "file_extension": ".py",
   "mimetype": "text/x-python",
   "name": "python",
   "nbconvert_exporter": "python",
   "pygments_lexer": "ipython3",
   "version": "3.12.7"
  }
 },
 "nbformat": 4,
 "nbformat_minor": 5
}
